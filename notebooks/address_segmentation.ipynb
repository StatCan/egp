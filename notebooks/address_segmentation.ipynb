{
 "cells": [
  {
   "cell_type": "markdown",
   "metadata": {},
   "source": [
    "# Address Segmentation\n",
    "Conversion of address points into segmented address ranges along a road network."
   ]
  },
  {
   "cell_type": "markdown",
   "metadata": {},
   "source": [
    "### Load and preview dataframes"
   ]
  },
  {
   "cell_type": "code",
   "execution_count": 9,
   "metadata": {
    "scrolled": true
   },
   "outputs": [],
   "source": [
    "import geopandas as gpd\n",
    "addresses = gpd.read_file(\"C:/scratch/City_Of_Yellowknife.gpkg\", layer=\"addresses\")\n",
    "roads = gpd.read_file(\"C:/scratch/City_Of_Yellowknife.gpkg\", layer=\"roads\")"
   ]
  },
  {
   "cell_type": "code",
   "execution_count": 11,
   "metadata": {},
   "outputs": [
    {
     "data": {
      "text/html": [
       "<div>\n",
       "<style scoped>\n",
       "    .dataframe tbody tr th:only-of-type {\n",
       "        vertical-align: middle;\n",
       "    }\n",
       "\n",
       "    .dataframe tbody tr th {\n",
       "        vertical-align: top;\n",
       "    }\n",
       "\n",
       "    .dataframe thead th {\n",
       "        text-align: right;\n",
       "    }\n",
       "</style>\n",
       "<table border=\"1\" class=\"dataframe\">\n",
       "  <thead>\n",
       "    <tr style=\"text-align: right;\">\n",
       "      <th></th>\n",
       "      <th>number</th>\n",
       "      <th>street</th>\n",
       "      <th>geometry</th>\n",
       "    </tr>\n",
       "  </thead>\n",
       "  <tbody>\n",
       "    <tr>\n",
       "      <th>0</th>\n",
       "      <td>43A</td>\n",
       "      <td>OTTO DRIVE</td>\n",
       "      <td>POINT Z (-114.34198 62.47255 0.00000)</td>\n",
       "    </tr>\n",
       "    <tr>\n",
       "      <th>1</th>\n",
       "      <td>48</td>\n",
       "      <td>TAYLOR ROAD</td>\n",
       "      <td>POINT Z (-114.38994 62.44161 0.00000)</td>\n",
       "    </tr>\n",
       "    <tr>\n",
       "      <th>2</th>\n",
       "      <td>136B</td>\n",
       "      <td>DE WEERDT DRIVE</td>\n",
       "      <td>POINT Z (-114.37009 62.46390 0.00000)</td>\n",
       "    </tr>\n",
       "    <tr>\n",
       "      <th>3</th>\n",
       "      <td>129B</td>\n",
       "      <td>HAENER DRIVE</td>\n",
       "      <td>POINT Z (-114.37518 62.46337 0.00000)</td>\n",
       "    </tr>\n",
       "    <tr>\n",
       "      <th>4</th>\n",
       "      <td>2B</td>\n",
       "      <td>STIRLING COURT</td>\n",
       "      <td>POINT Z (-114.37021 62.46631 0.00000)</td>\n",
       "    </tr>\n",
       "  </tbody>\n",
       "</table>\n",
       "</div>"
      ],
      "text/plain": [
       "  number           street                               geometry\n",
       "0    43A       OTTO DRIVE  POINT Z (-114.34198 62.47255 0.00000)\n",
       "1     48      TAYLOR ROAD  POINT Z (-114.38994 62.44161 0.00000)\n",
       "2   136B  DE WEERDT DRIVE  POINT Z (-114.37009 62.46390 0.00000)\n",
       "3   129B     HAENER DRIVE  POINT Z (-114.37518 62.46337 0.00000)\n",
       "4     2B   STIRLING COURT  POINT Z (-114.37021 62.46631 0.00000)"
      ]
     },
     "execution_count": 11,
     "metadata": {},
     "output_type": "execute_result"
    }
   ],
   "source": [
    "addresses.head()"
   ]
  },
  {
   "cell_type": "code",
   "execution_count": 10,
   "metadata": {},
   "outputs": [
    {
     "data": {
      "text/html": [
       "<div>\n",
       "<style scoped>\n",
       "    .dataframe tbody tr th:only-of-type {\n",
       "        vertical-align: middle;\n",
       "    }\n",
       "\n",
       "    .dataframe tbody tr th {\n",
       "        vertical-align: top;\n",
       "    }\n",
       "\n",
       "    .dataframe thead th {\n",
       "        text-align: right;\n",
       "    }\n",
       "</style>\n",
       "<table border=\"1\" class=\"dataframe\">\n",
       "  <thead>\n",
       "    <tr style=\"text-align: right;\">\n",
       "      <th></th>\n",
       "      <th>FEATURECOD</th>\n",
       "      <th>COMMUNITY</th>\n",
       "      <th>RTENAME2EN</th>\n",
       "      <th>SURFACE</th>\n",
       "      <th>DC_ENDDATE</th>\n",
       "      <th>ROADNAME</th>\n",
       "      <th>geometry</th>\n",
       "    </tr>\n",
       "  </thead>\n",
       "  <tbody>\n",
       "    <tr>\n",
       "      <th>0</th>\n",
       "      <td>RSTRLIN</td>\n",
       "      <td>Northwest Territories</td>\n",
       "      <td>None</td>\n",
       "      <td>Unpaved</td>\n",
       "      <td>2015-09-28</td>\n",
       "      <td>VEE LAKE ROAD</td>\n",
       "      <td>LINESTRING (-114.36956 62.54188, -114.36956 62...</td>\n",
       "    </tr>\n",
       "    <tr>\n",
       "      <th>1</th>\n",
       "      <td>RRESLIN</td>\n",
       "      <td>Northwest Territories</td>\n",
       "      <td>None</td>\n",
       "      <td>Unpaved</td>\n",
       "      <td>2015-09-28</td>\n",
       "      <td>None</td>\n",
       "      <td>LINESTRING (-114.36646 62.54697, -114.36646 62...</td>\n",
       "    </tr>\n",
       "    <tr>\n",
       "      <th>2</th>\n",
       "      <td>RHWYLIN</td>\n",
       "      <td>Northwest Territories</td>\n",
       "      <td>Highway 4</td>\n",
       "      <td>Paved</td>\n",
       "      <td>2015-09-28</td>\n",
       "      <td>INGRAHAM TRAIL</td>\n",
       "      <td>LINESTRING (-114.30128 62.50890, -114.30103 62...</td>\n",
       "    </tr>\n",
       "    <tr>\n",
       "      <th>3</th>\n",
       "      <td>RARTLIN</td>\n",
       "      <td>Northwest Territories</td>\n",
       "      <td>None</td>\n",
       "      <td>Unpaved</td>\n",
       "      <td>2015-09-28</td>\n",
       "      <td>DETTAH ROAD</td>\n",
       "      <td>LINESTRING (-114.30082 62.47320, -114.30080 62...</td>\n",
       "    </tr>\n",
       "    <tr>\n",
       "      <th>4</th>\n",
       "      <td>RSTRLIN</td>\n",
       "      <td>Northwest Territories</td>\n",
       "      <td>None</td>\n",
       "      <td>Unpaved</td>\n",
       "      <td>2015-09-28</td>\n",
       "      <td>DETTAH</td>\n",
       "      <td>LINESTRING (-114.30939 62.41112, -114.30967 62...</td>\n",
       "    </tr>\n",
       "  </tbody>\n",
       "</table>\n",
       "</div>"
      ],
      "text/plain": [
       "  FEATURECOD              COMMUNITY RTENAME2EN  SURFACE  DC_ENDDATE  \\\n",
       "0    RSTRLIN  Northwest Territories       None  Unpaved  2015-09-28   \n",
       "1    RRESLIN  Northwest Territories       None  Unpaved  2015-09-28   \n",
       "2    RHWYLIN  Northwest Territories  Highway 4    Paved  2015-09-28   \n",
       "3    RARTLIN  Northwest Territories       None  Unpaved  2015-09-28   \n",
       "4    RSTRLIN  Northwest Territories       None  Unpaved  2015-09-28   \n",
       "\n",
       "         ROADNAME                                           geometry  \n",
       "0   VEE LAKE ROAD  LINESTRING (-114.36956 62.54188, -114.36956 62...  \n",
       "1            None  LINESTRING (-114.36646 62.54697, -114.36646 62...  \n",
       "2  INGRAHAM TRAIL  LINESTRING (-114.30128 62.50890, -114.30103 62...  \n",
       "3     DETTAH ROAD  LINESTRING (-114.30082 62.47320, -114.30080 62...  \n",
       "4          DETTAH  LINESTRING (-114.30939 62.41112, -114.30967 62...  "
      ]
     },
     "execution_count": 10,
     "metadata": {},
     "output_type": "execute_result"
    }
   ],
   "source": [
    "roads.head()"
   ]
  },
  {
   "cell_type": "code",
   "execution_count": null,
   "metadata": {},
   "outputs": [],
   "source": []
  }
 ],
 "metadata": {
  "kernelspec": {
   "display_name": "Python 3",
   "language": "python",
   "name": "python3"
  },
  "language_info": {
   "codemirror_mode": {
    "name": "ipython",
    "version": 3
   },
   "file_extension": ".py",
   "mimetype": "text/x-python",
   "name": "python",
   "nbconvert_exporter": "python",
   "pygments_lexer": "ipython3",
   "version": "3.6.8"
  }
 },
 "nbformat": 4,
 "nbformat_minor": 4
}
