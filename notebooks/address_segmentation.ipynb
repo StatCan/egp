{
 "cells": [
  {
   "cell_type": "markdown",
   "metadata": {},
   "source": [
    "# Address Segmentation\n",
    "Conversion of address points into segmented address ranges along a road network.\n",
    "\n",
    "**Notes:** The following guide assumes data has already been cleaned and filtered of undesired data."
   ]
  },
  {
   "cell_type": "code",
   "execution_count": 35,
   "metadata": {},
   "outputs": [],
   "source": [
    "import contextily as ctx\n",
    "import geopandas as gpd\n",
    "import ipympl\n",
    "import matplotlib.pyplot as plt\n",
    "import re\n",
    "from operator import itemgetter"
   ]
  },
  {
   "cell_type": "markdown",
   "metadata": {},
   "source": [
    "## Load and preview dataframes"
   ]
  },
  {
   "cell_type": "code",
   "execution_count": 36,
   "metadata": {
    "scrolled": true
   },
   "outputs": [],
   "source": [
    "addresses = gpd.read_file(\"C:/scratch/City_Of_Yellowknife.gpkg\", layer=\"addresses\")\n",
    "roads = gpd.read_file(\"C:/scratch/City_Of_Yellowknife.gpkg\", layer=\"roads\")"
   ]
  },
  {
   "cell_type": "code",
   "execution_count": 37,
   "metadata": {},
   "outputs": [
    {
     "data": {
      "text/html": [
       "<div>\n",
       "<style scoped>\n",
       "    .dataframe tbody tr th:only-of-type {\n",
       "        vertical-align: middle;\n",
       "    }\n",
       "\n",
       "    .dataframe tbody tr th {\n",
       "        vertical-align: top;\n",
       "    }\n",
       "\n",
       "    .dataframe thead th {\n",
       "        text-align: right;\n",
       "    }\n",
       "</style>\n",
       "<table border=\"1\" class=\"dataframe\">\n",
       "  <thead>\n",
       "    <tr style=\"text-align: right;\">\n",
       "      <th></th>\n",
       "      <th>number</th>\n",
       "      <th>street</th>\n",
       "      <th>geometry</th>\n",
       "    </tr>\n",
       "  </thead>\n",
       "  <tbody>\n",
       "    <tr>\n",
       "      <th>0</th>\n",
       "      <td>43A</td>\n",
       "      <td>OTTO DRIVE</td>\n",
       "      <td>POINT Z (-12728491.168 8972072.805 0.000)</td>\n",
       "    </tr>\n",
       "    <tr>\n",
       "      <th>1</th>\n",
       "      <td>48</td>\n",
       "      <td>TAYLOR ROAD</td>\n",
       "      <td>POINT Z (-12733829.550 8964622.287 0.000)</td>\n",
       "    </tr>\n",
       "    <tr>\n",
       "      <th>2</th>\n",
       "      <td>136B</td>\n",
       "      <td>DE WEERDT DRIVE</td>\n",
       "      <td>POINT Z (-12731620.348 8969989.275 0.000)</td>\n",
       "    </tr>\n",
       "    <tr>\n",
       "      <th>3</th>\n",
       "      <td>129B</td>\n",
       "      <td>HAENER DRIVE</td>\n",
       "      <td>POINT Z (-12732186.396 8969861.224 0.000)</td>\n",
       "    </tr>\n",
       "    <tr>\n",
       "      <th>4</th>\n",
       "      <td>2B</td>\n",
       "      <td>STIRLING COURT</td>\n",
       "      <td>POINT Z (-12731633.895 8970568.762 0.000)</td>\n",
       "    </tr>\n",
       "  </tbody>\n",
       "</table>\n",
       "</div>"
      ],
      "text/plain": [
       "  number           street                                   geometry\n",
       "0    43A       OTTO DRIVE  POINT Z (-12728491.168 8972072.805 0.000)\n",
       "1     48      TAYLOR ROAD  POINT Z (-12733829.550 8964622.287 0.000)\n",
       "2   136B  DE WEERDT DRIVE  POINT Z (-12731620.348 8969989.275 0.000)\n",
       "3   129B     HAENER DRIVE  POINT Z (-12732186.396 8969861.224 0.000)\n",
       "4     2B   STIRLING COURT  POINT Z (-12731633.895 8970568.762 0.000)"
      ]
     },
     "execution_count": 37,
     "metadata": {},
     "output_type": "execute_result"
    }
   ],
   "source": [
    "addresses.head()"
   ]
  },
  {
   "cell_type": "code",
   "execution_count": 38,
   "metadata": {},
   "outputs": [
    {
     "data": {
      "text/html": [
       "<div>\n",
       "<style scoped>\n",
       "    .dataframe tbody tr th:only-of-type {\n",
       "        vertical-align: middle;\n",
       "    }\n",
       "\n",
       "    .dataframe tbody tr th {\n",
       "        vertical-align: top;\n",
       "    }\n",
       "\n",
       "    .dataframe thead th {\n",
       "        text-align: right;\n",
       "    }\n",
       "</style>\n",
       "<table border=\"1\" class=\"dataframe\">\n",
       "  <thead>\n",
       "    <tr style=\"text-align: right;\">\n",
       "      <th></th>\n",
       "      <th>featurecod</th>\n",
       "      <th>community</th>\n",
       "      <th>routename</th>\n",
       "      <th>surface</th>\n",
       "      <th>date</th>\n",
       "      <th>roadname</th>\n",
       "      <th>geometry</th>\n",
       "    </tr>\n",
       "  </thead>\n",
       "  <tbody>\n",
       "    <tr>\n",
       "      <th>0</th>\n",
       "      <td>RSTRLIN</td>\n",
       "      <td>Northwest Territories</td>\n",
       "      <td>None</td>\n",
       "      <td>Unpaved</td>\n",
       "      <td>2015-09-28</td>\n",
       "      <td>VEE LAKE ROAD</td>\n",
       "      <td>LINESTRING Z (-12731561.088 8988790.623 0.000,...</td>\n",
       "    </tr>\n",
       "    <tr>\n",
       "      <th>1</th>\n",
       "      <td>RRESLIN</td>\n",
       "      <td>Northwest Territories</td>\n",
       "      <td>None</td>\n",
       "      <td>Unpaved</td>\n",
       "      <td>2015-09-28</td>\n",
       "      <td>None</td>\n",
       "      <td>LINESTRING Z (-12731215.603 8990017.829 0.000,...</td>\n",
       "    </tr>\n",
       "    <tr>\n",
       "      <th>2</th>\n",
       "      <td>RHWYLIN</td>\n",
       "      <td>Northwest Territories</td>\n",
       "      <td>Highway 4</td>\n",
       "      <td>Paved</td>\n",
       "      <td>2015-09-28</td>\n",
       "      <td>INGRAHAM TRAIL</td>\n",
       "      <td>LINESTRING Z (-12723960.099 8980833.256 0.000,...</td>\n",
       "    </tr>\n",
       "    <tr>\n",
       "      <th>3</th>\n",
       "      <td>RARTLIN</td>\n",
       "      <td>Northwest Territories</td>\n",
       "      <td>None</td>\n",
       "      <td>Unpaved</td>\n",
       "      <td>2015-09-28</td>\n",
       "      <td>DETTAH ROAD</td>\n",
       "      <td>LINESTRING Z (-12723909.403 8972227.140 0.000,...</td>\n",
       "    </tr>\n",
       "    <tr>\n",
       "      <th>4</th>\n",
       "      <td>RSTRLIN</td>\n",
       "      <td>Northwest Territories</td>\n",
       "      <td>None</td>\n",
       "      <td>Unpaved</td>\n",
       "      <td>2015-09-28</td>\n",
       "      <td>DETTAH</td>\n",
       "      <td>LINESTRING Z (-12724863.590 8957290.788 0.000,...</td>\n",
       "    </tr>\n",
       "  </tbody>\n",
       "</table>\n",
       "</div>"
      ],
      "text/plain": [
       "  featurecod              community  routename  surface        date  \\\n",
       "0    RSTRLIN  Northwest Territories       None  Unpaved  2015-09-28   \n",
       "1    RRESLIN  Northwest Territories       None  Unpaved  2015-09-28   \n",
       "2    RHWYLIN  Northwest Territories  Highway 4    Paved  2015-09-28   \n",
       "3    RARTLIN  Northwest Territories       None  Unpaved  2015-09-28   \n",
       "4    RSTRLIN  Northwest Territories       None  Unpaved  2015-09-28   \n",
       "\n",
       "         roadname                                           geometry  \n",
       "0   VEE LAKE ROAD  LINESTRING Z (-12731561.088 8988790.623 0.000,...  \n",
       "1            None  LINESTRING Z (-12731215.603 8990017.829 0.000,...  \n",
       "2  INGRAHAM TRAIL  LINESTRING Z (-12723960.099 8980833.256 0.000,...  \n",
       "3     DETTAH ROAD  LINESTRING Z (-12723909.403 8972227.140 0.000,...  \n",
       "4          DETTAH  LINESTRING Z (-12724863.590 8957290.788 0.000,...  "
      ]
     },
     "execution_count": 38,
     "metadata": {},
     "output_type": "execute_result"
    }
   ],
   "source": [
    "roads.head()"
   ]
  },
  {
   "cell_type": "markdown",
   "metadata": {},
   "source": [
    "## Preview data"
   ]
  },
  {
   "cell_type": "code",
   "execution_count": 44,
   "metadata": {},
   "outputs": [
    {
     "data": {
      "application/vnd.jupyter.widget-view+json": {
       "model_id": "170c3b4e2f35471895aa4902f21c3683",
       "version_major": 2,
       "version_minor": 0
      },
      "text/plain": [
       "Canvas(toolbar=Toolbar(toolitems=[('Home', 'Reset original view', 'home', 'home'), ('Back', 'Back to previous …"
      ]
     },
     "metadata": {},
     "output_type": "display_data"
    }
   ],
   "source": [
    "%matplotlib widget\n",
    "\n",
    "# Fetch basemap.\n",
    "# Note: basemaps are retrieved in EPSG:3857 and, therefore, dataframes should also use this crs.\n",
    "basemap, extent = ctx.bounds2img(*roads.total_bounds, ll=False, source=ctx.providers.Esri.WorldImagery)\n",
    "\n",
    "# Configure plot with basemap.\n",
    "fig, ax = plt.subplots()\n",
    "plt.imshow(basemap, extent=extent)\n",
    "roads.plot(ax=ax, color=\"blue\", label=\"roads\", linewidth=0.5)\n",
    "addresses.plot(ax=ax, color=\"red\", label=\"addresses\", markersize=2)\n",
    "ax.ticklabel_format(style=\"plain\")\n",
    "ax.set_xticks(itemgetter(0, 1)(extent))\n",
    "plt.xlabel(\"Longitude (m)\")\n",
    "plt.ylabel(\"Latitude (m)\")\n",
    "plt.title(\"City of Yellowknife\")\n",
    "plt.legend(loc=\"center left\", bbox_to_anchor=(1.0, 0.5))\n",
    "plt.show()"
   ]
  },
  {
   "cell_type": "markdown",
   "metadata": {},
   "source": [
    "## Generate / fix address attributes - number and suffix"
   ]
  },
  {
   "cell_type": "code",
   "execution_count": 39,
   "metadata": {},
   "outputs": [
    {
     "data": {
      "text/html": [
       "<div>\n",
       "<style scoped>\n",
       "    .dataframe tbody tr th:only-of-type {\n",
       "        vertical-align: middle;\n",
       "    }\n",
       "\n",
       "    .dataframe tbody tr th {\n",
       "        vertical-align: top;\n",
       "    }\n",
       "\n",
       "    .dataframe thead th {\n",
       "        text-align: right;\n",
       "    }\n",
       "</style>\n",
       "<table border=\"1\" class=\"dataframe\">\n",
       "  <thead>\n",
       "    <tr style=\"text-align: right;\">\n",
       "      <th></th>\n",
       "      <th>number</th>\n",
       "      <th>street</th>\n",
       "      <th>geometry</th>\n",
       "      <th>suffix</th>\n",
       "    </tr>\n",
       "  </thead>\n",
       "  <tbody>\n",
       "    <tr>\n",
       "      <th>0</th>\n",
       "      <td>43</td>\n",
       "      <td>OTTO DRIVE</td>\n",
       "      <td>POINT Z (-12728491.168 8972072.805 0.000)</td>\n",
       "      <td>A</td>\n",
       "    </tr>\n",
       "    <tr>\n",
       "      <th>1</th>\n",
       "      <td>48</td>\n",
       "      <td>TAYLOR ROAD</td>\n",
       "      <td>POINT Z (-12733829.550 8964622.287 0.000)</td>\n",
       "      <td></td>\n",
       "    </tr>\n",
       "    <tr>\n",
       "      <th>2</th>\n",
       "      <td>136</td>\n",
       "      <td>DE WEERDT DRIVE</td>\n",
       "      <td>POINT Z (-12731620.348 8969989.275 0.000)</td>\n",
       "      <td>B</td>\n",
       "    </tr>\n",
       "    <tr>\n",
       "      <th>3</th>\n",
       "      <td>129</td>\n",
       "      <td>HAENER DRIVE</td>\n",
       "      <td>POINT Z (-12732186.396 8969861.224 0.000)</td>\n",
       "      <td>B</td>\n",
       "    </tr>\n",
       "    <tr>\n",
       "      <th>4</th>\n",
       "      <td>2</td>\n",
       "      <td>STIRLING COURT</td>\n",
       "      <td>POINT Z (-12731633.895 8970568.762 0.000)</td>\n",
       "      <td>B</td>\n",
       "    </tr>\n",
       "  </tbody>\n",
       "</table>\n",
       "</div>"
      ],
      "text/plain": [
       "  number           street                                   geometry suffix\n",
       "0     43       OTTO DRIVE  POINT Z (-12728491.168 8972072.805 0.000)      A\n",
       "1     48      TAYLOR ROAD  POINT Z (-12733829.550 8964622.287 0.000)       \n",
       "2    136  DE WEERDT DRIVE  POINT Z (-12731620.348 8969989.275 0.000)      B\n",
       "3    129     HAENER DRIVE  POINT Z (-12732186.396 8969861.224 0.000)      B\n",
       "4      2   STIRLING COURT  POINT Z (-12731633.895 8970568.762 0.000)      B"
      ]
     },
     "execution_count": 39,
     "metadata": {},
     "output_type": "execute_result"
    }
   ],
   "source": [
    "addresses[\"suffix\"] = addresses[\"number\"].map(lambda val: re.sub(pattern=\"\\\\d+\", repl=\"\", string=val, flags=re.I))\n",
    "addresses[\"number\"] = addresses[\"number\"].map(lambda val: re.sub(pattern=\"[^\\\\d]\", repl=\"\", string=val, flags=re.I))\n",
    "addresses.head()"
   ]
  },
  {
   "cell_type": "markdown",
   "metadata": {},
   "source": [
    "## Configure address to roads linkages"
   ]
  },
  {
   "cell_type": "code",
   "execution_count": null,
   "metadata": {},
   "outputs": [],
   "source": []
  }
 ],
 "metadata": {
  "kernelspec": {
   "display_name": "Python 3",
   "language": "python",
   "name": "python3"
  },
  "language_info": {
   "codemirror_mode": {
    "name": "ipython",
    "version": 3
   },
   "file_extension": ".py",
   "mimetype": "text/x-python",
   "name": "python",
   "nbconvert_exporter": "python",
   "pygments_lexer": "ipython3",
   "version": "3.6.8"
  }
 },
 "nbformat": 4,
 "nbformat_minor": 4
}
